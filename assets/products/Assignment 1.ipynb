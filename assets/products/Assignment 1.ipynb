{
 "cells": [
  {
   "cell_type": "markdown",
   "id": "fe831dd5",
   "metadata": {},
   "source": [
    "# CSCI 115\n",
    "# Assignment 1\n",
    "## Topics: Python Exploration with Data Management\n",
    "In this assignment, you will create a Python program that manages a database of movies. You will implement functions \n",
    "\n",
    "to add, search, update, and delete movie records. Each movie record will be stored as a dictionary within a list, \n",
    "\n",
    "simulating a basic database. You will practice using lists, dictionaries, functions, and basic search algorithms.\n",
    "\n",
    "\n",
    "<h2>  Implementing a Print Function (20 Points) </h2>\n",
    "\n",
    "Task: Develop a function named print_movies(movie_db, n) that prints the details of the first n movies from the provided movie_db list. Your function should format the output in a reader-friendly manner, displaying each movie's title, director, year, and genre on separate lines, followed by a blank line between each movie record.\n",
    "1) Correctly implementing the function: 15 points\n",
    "\n",
    "2) Output formatting: 5 points\n",
    "\n",
    "Your function must take two parameters: the movie database (movie_db) and an integer (n) indicating the number of movies to print.\n",
    "\n",
    "If n is greater than the number of movies in the database, your function should gracefully handle this by printing all available movies without raising an error.\n",
    "    \n",
    "The output should be well-formatted, making it easy to read and distinguish between different movie records.\t\n",
    "\n",
    "Each movie's details should be printed according to the following format:\n",
    "\n",
    "Title: [Movie Title]\n",
    "\n",
    "Director: [Director's Name]\n",
    "\n",
    "Year: [Release Year]\n",
    "\n",
    "Genre: [Genre]"
   ]
  },
  {
   "cell_type": "markdown",
   "id": "6ede9e14",
   "metadata": {},
   "source": [
    "### Initializing the movie database"
   ]
  },
  {
   "cell_type": "code",
   "execution_count": null,
   "id": "e813ea27",
   "metadata": {},
   "outputs": [],
   "source": [
    "movie_db = [\n",
    "    {'title': \"Inception\", 'director': \"Christopher Nolan\", 'year': 2010, 'genre': \"Science Fiction\"},\n",
    "    {'title': \"The Matrix\", 'director': \"Lana Wachowski, Lilly Wachowski\", 'year': 1999, 'genre': \"Action\"},\n",
    "    {'title': \"Pulp Fiction\", 'director': \"Quentin Tarantino\", 'year': 1994, 'genre': \"Crime\"},\n",
    "    {'title': \"Blade Runner 2049\", 'director': \"Denis Villeneuve\", 'year': 2017, 'genre': \"Science Fiction\"},\n",
    "    {'title': \"The Grand Budapest Hotel\", 'director': \"Wes Anderson\", 'year': 2014, 'genre': \"Comedy\"},\n",
    "    {'title': \"Moonlight\", 'director': \"Barry Jenkins\", 'year': 2016, 'genre': \"Drama\"},\n",
    "    {'title': \"Parasite\", 'director': \"Bong Joon Ho\", 'year': 2019, 'genre': \"Thriller\"},\n",
    "    {'title': \"Interstellar\", 'director': \"Christopher Nolan\", 'year': 2014, 'genre': \"Science Fiction\"},\n",
    "    {'title': \"Mad Max: Fury Road\", 'director': \"George Miller\", 'year': 2015, 'genre': \"Action\"},\n",
    "    {'title': \"Spirited Away\", 'director': \"Hayao Miyazaki\", 'year': 2001, 'genre': \"Animation\"}\n",
    "]"
   ]
  },
  {
   "cell_type": "markdown",
   "id": "7e5f5995",
   "metadata": {},
   "source": [
    "### Example usage\n",
    "print_movies(movie_db, 3)\n",
    "\n",
    "### Expected output:\n",
    "\n",
    "(1) Title: Inception\n",
    "\n",
    "Director: Christopher Nolan\n",
    "\n",
    "Year: 2010\n",
    "\n",
    "Genre: Science Fiction\n",
    "\n",
    "(2) Title: The Matrix\n",
    "\n",
    "Director: Lana Wachowski, Lilly Wachowski\n",
    "\n",
    "Year: 1999\n",
    "\n",
    "Genre: Action\n",
    "\n",
    "(3) Title: Pulp Fiction\n",
    "\n",
    "Director: Quentin Tarantino\n",
    "\n",
    "Year: 1994\n",
    "\n",
    "Genre: Crime"
   ]
  },
  {
   "cell_type": "code",
   "execution_count": 1,
   "id": "6db6fb0e",
   "metadata": {},
   "outputs": [],
   "source": [
    "# Part 1, write code here\n",
    "def print_movies(movie_db, n):\n",
    "    pass # replace and write function implementation"
   ]
  },
  {
   "cell_type": "markdown",
   "id": "8d6d876e",
   "metadata": {},
   "source": [
    "<h2> Adding a New Movie (20 Points) </h2>\n",
    "\n",
    "Task: Write a function add_movie(movie_db, movie) that takes the movie database and a movie record as arguments, and adds the movie to the database. Ensure no duplicate movie titles are added.\n",
    "   1) Function implementation: 10 points\n",
    "   2) Duplicate check: 10 points\n",
    "\n",
    "### Example usage:\n",
    "add_movie(movie_db, {'title': 'Inception', 'director': 'Christopher Nolan', 'year': 2010, 'genre': 'Sci-Fi'})\n",
    "\n",
    "### Expected output:\n",
    "\n",
    "You cannot add this movie, it already exists\n",
    "\n",
    "### Example usage:\n",
    "\n",
    "add_new_movie(movie_db, \"Avatar: The Way of Water\", \"James Cameron\", 2022, \"Science Fiction\")\n",
    "\n",
    "### Expected output:\n",
    "\n",
    "Sucessfully added"
   ]
  },
  {
   "cell_type": "code",
   "execution_count": 2,
   "id": "d38f731e",
   "metadata": {},
   "outputs": [],
   "source": [
    "# Part 2, write code here\n",
    "def add_movie(movie_db, movie):\n",
    "    pass # replace and write function implementation"
   ]
  },
  {
   "cell_type": "markdown",
   "id": "890a506e",
   "metadata": {},
   "source": [
    "<h2> Searching for Movies (20 Points) </h2>\n",
    "\n",
    " Task: Implement two search functions:\n",
    "        \n",
    "  1) search_by_title(movie_db, title) which returns all movies matching the given title. \n",
    "\n",
    "Correct implementation of search_by_title: 10 points\n",
    "        \n",
    "  2) search_by_director(movie_db, director) which returns all movies directed by the given director.\n",
    "  \n",
    "Correct implementation of search_by_director: 10 points\n",
    "\n",
    "### Example usage:\n",
    "print(search_by_title(movie_db, 'Inception'))\n",
    "\n",
    "### Expected Output:\n",
    "\n",
    "[{'title': 'Inception', 'director': 'Christopher Nolan', 'year': 2010, 'genre': 'Science Fiction'}]\n",
    "\n",
    "### Example usage:\n",
    "print(search_by_director(movie_db, 'Christopher Nolan'))\n",
    "\n",
    "### Expected Output:\n",
    "[{'title': 'Inception', 'director': 'Christopher Nolan', 'year': 2010, 'genre': 'Science Fiction'}, {'title': 'Interstellar', 'director': 'Christopher Nolan', 'year': 2014, 'genre': 'Science Fiction'}]\n"
   ]
  },
  {
   "cell_type": "code",
   "execution_count": null,
   "id": "ce075b53",
   "metadata": {},
   "outputs": [],
   "source": [
    "# Part 3, write code here\n",
    "def search_by_title(movie_db, title):\n",
    "    pass # replace and write function implementation\n",
    "\n",
    "def search_by_director(movie_db, director):\n",
    "    pass # replace and write function implementation"
   ]
  },
  {
   "cell_type": "markdown",
   "id": "1c90801d",
   "metadata": {},
   "source": [
    "<h2> Updating a Movie Record (10 Points) </h2>\n",
    "\n",
    "Write a function update_movie(movie_db, title, updated_info) where title is the movie to update, and updated_info is a dictionary with new values for some attributes of the movie. If the movie exists, update it; otherwise, print a message indicating the movie is not found.\n",
    "\n",
    "### Example usage:\n",
    "update_movie_info = {'year': 2021, 'genre': \"Action\"}\n",
    "\n",
    "update_movie(movie_db, \"Inception\", update_movie_info)\n",
    "\n",
    "### Expected Output:\n",
    "Movie titled 'Inception' has been updated."
   ]
  },
  {
   "cell_type": "code",
   "execution_count": 2,
   "id": "867df461",
   "metadata": {},
   "outputs": [],
   "source": [
    "#Part 4 write code here\n",
    "def update_movie(movie_db, title, updated_info):\n",
    "    pass # replace and write function implementation"
   ]
  },
  {
   "cell_type": "markdown",
   "id": "eabab162",
   "metadata": {},
   "source": [
    "<h2> Deleting a Movie (10 Points) </h2>\n",
    "\n",
    "Create a function delete_movie(movie_db, title) that removes the movie with the given title from the database. If the movie does not exist, print an appropriate message.\n",
    "\n",
    "### Example usage:\n",
    "delete_movie(movie_db, \"The Matrix\")\n",
    "\n",
    "### Expected Output:\n",
    "Movie titled 'The Matrix' has been deleted from the database.\n",
    "\n",
    "### Example usage:\n",
    "delete_movie(movie_db, \"Ghost Movie\")\n",
    "\n",
    "### Expected Output:\n",
    "Movie titled 'Ghost Movie' not found in the database."
   ]
  },
  {
   "cell_type": "code",
   "execution_count": 4,
   "id": "f16c5e97",
   "metadata": {},
   "outputs": [],
   "source": [
    "#Part 5 write code here\n",
    "def delete_movie(movie_db, title):\n",
    "    pass # replace and write function implementation"
   ]
  },
  {
   "cell_type": "markdown",
   "id": "b9424d1c",
   "metadata": {},
   "source": [
    "<h2> Sorting Movies (20 Points) </h2>\n",
    "\n",
    "Task: Write a function sort_movies(movie_db, key, descending=False) that sorts the movies in the database based on a given key (e.g., year, title). The descending parameter determines whether the sort should be in ascending (default) or descending order.\n",
    "\n",
    "### Example usage:\n",
    "\n",
    "sort_movies(movie_db, 'year')\n",
    "\n",
    "print_movies(movie_db, 3)\n",
    "\n",
    "### Expected Output:\n",
    "The database are sorted based on year of the movie\n",
    "\n",
    "(1) Title: Pulp Fiction\n",
    "\n",
    "Director: Quentin Tarantino\n",
    "\n",
    "Year: 1994\n",
    "\n",
    "Genre: Crime\n",
    "\n",
    "(2) Title: The Matrix\n",
    "\n",
    "Director: Lana Wachowski, Lilly Wachowski\n",
    "\n",
    "Year: 1999\n",
    "\n",
    "Genre: Action\n",
    "\n",
    "(3) Title: Spirited Away\n",
    "\n",
    "Director: Hayao Miyazaki\n",
    "\n",
    "Year: 2001\n",
    "\n",
    "Genre: Animation\n"
   ]
  },
  {
   "cell_type": "code",
   "execution_count": 5,
   "id": "091b4190",
   "metadata": {},
   "outputs": [],
   "source": [
    "#Part 6 write code here\n",
    "def sort_movies(movie_db, key, descending=False):\n",
    "    pass # replace and write function implementation"
   ]
  }
 ],
 "metadata": {
  "kernelspec": {
   "display_name": "TF",
   "language": "python",
   "name": "tf_gpu"
  },
  "language_info": {
   "codemirror_mode": {
    "name": "ipython",
    "version": 3
   },
   "file_extension": ".py",
   "mimetype": "text/x-python",
   "name": "python",
   "nbconvert_exporter": "python",
   "pygments_lexer": "ipython3",
   "version": "3.9.16"
  }
 },
 "nbformat": 4,
 "nbformat_minor": 5
}
